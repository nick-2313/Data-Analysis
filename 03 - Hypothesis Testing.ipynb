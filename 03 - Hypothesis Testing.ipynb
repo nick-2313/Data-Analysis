{
 "cells": [
  {
   "cell_type": "markdown",
   "metadata": {},
   "source": [
    "<h1>Hypothesis Testing</h1>\n",
    "\n",
    "As we saw in the lecture, in a statistical hypothesis testing we have a statement called the null hypothesis that assumes nothing interesting is going on between the variable you are testing. \n",
    "\n",
    "With is little evidence against the null hypothesis given the data, you accept the null hypothesis. If the null hypothesis is unlikely to happen given the data, you reject the null in favor of the alternative hypothesis. We are usually interested in the alternative hypothesis: something interesting is going on.\n",
    "\n",
    "Once you have the null and alternative hypothesis written down, you choose a significance level, denoted by the Greek letter α (alpha). The significance level is a probability threshold that determines when you reject the null hypothesis. After carrying out a test, if the probability of getting a result as extreme as the one you observe due to chance is lower than the significance level, you reject the null hypothesis in favor of the alternative. This probability of seeing a result as extreme or more extreme than the one observed is known as the p-value."
   ]
  },
  {
   "cell_type": "markdown",
   "metadata": {},
   "source": [
    "<h2>One-Sample T-Test</h2>"
   ]
  },
  {
   "cell_type": "markdown",
   "metadata": {},
   "source": [
    "In the one sample t-test we want to determine whether a sample of observations could have been generated from a population with a specific mean. \n",
    "\n",
    "In this test the hypothesis have the form:\n",
    "\n",
    "H<sub>0</sub>= mu </br>\n",
    "\n",
    "H<sub>a</sub> ≠ mu\n",
    "\n",
    "Suppose we are interested in determining whether the average GPA of our school is significantly different from 3. In this case our hypothesis are:\n",
    "\n",
    "H<sub>0</sub>= 3;</br>\n",
    "\n",
    "H<sub>a</sub> ≠ 3\n",
    "\n",
    "α = 0.05\n",
    "\n",
    "And we want to use a significance level of 0.05, meaning the chances to have a sample with a mean different from 3 even though it is truly 3 is 5% (type I error)."
   ]
  },
  {
   "cell_type": "code",
   "execution_count": 4,
   "metadata": {
    "collapsed": true
   },
   "outputs": [],
   "source": [
    "import pandas as pd\n",
    "\n",
    "#Reading the SAT dataset\n",
    "sat_filename = \"./data/GPA_SAT_Dataset.csv\"\n",
    "sat_ds = pd.read_csv(sat_filename, sep=',', decimal='.',header = 0)"
   ]
  },
  {
   "cell_type": "code",
   "execution_count": 5,
   "metadata": {},
   "outputs": [
    {
     "name": "stdout",
     "output_type": "stream",
     "text": [
      "Id           13.000\n",
      "Salary    32960.000\n",
      "GPA           3.024\n",
      "Major         1.960\n",
      "SAT        1194.000\n",
      "dtype: float64\n"
     ]
    }
   ],
   "source": [
    "print (sat_ds.mean())"
   ]
  },
  {
   "cell_type": "markdown",
   "metadata": {},
   "source": [
    "<h3>Checking Assumptions</h3>\n",
    "This is a parametric procedures that makes certain assumptions:\n",
    "\n",
    "<ol>\n",
    "<li>The variable must be continuous: continous values can take any value within a range.</li>\n",
    "<li>The observations are independend of one another: hard to test and usually not testable.</li>\n",
    "<li>The variable is approximately normally distributed: check the shape of the distribution</li>\n",
    "<li>The variable has no outliers: outliers are extreme values</li>\n",
    "</ol>"
   ]
  },
  {
   "cell_type": "markdown",
   "metadata": {},
   "source": [
    "<h4>Checking the gpa variable is continuous</h4>\n",
    "Yes, this variable is in a decimal format and can take values from 0 to 4.\n",
    "\n",
    "<h4>Checking the gpa variable is approximately normally distributed</h4>\n",
    "We will use the plot technique learned from the lab."
   ]
  },
  {
   "cell_type": "code",
   "execution_count": 9,
   "metadata": {},
   "outputs": [
    {
     "data": {
      "image/png": "[encoded data removed]",
      "text/plain": [
       "<matplotlib.figure.Figure at 0x3a8c5e7710>"
      ]
     },
     "metadata": {},
     "output_type": "display_data"
    }
   ],
   "source": [
    "import seaborn as sns\n",
    "\n",
    "# We need to have this strange inclusion %Matplotlib inline in order to display the plot in a notebook\n",
    "%matplotlib inline\n",
    "sns.set_style(style='white')\n",
    "sns.distplot(sat_ds[\"GPA\"],bins=10)\n",
    "\n",
    "# Remove the top and right borders - Must come after the graph\n",
    "sns.despine()"
   ]
  },
  {
   "cell_type": "markdown",
   "metadata": {},
   "source": [
    "As we can see, even if with a little skewness, we can consider this distribution approximately normal (consider we only have 25 observations). Also, because the range of the GPA variable is from 0.0 to 4.0, we can automatically exclude outliers. Anything outside from this range is really an error.\n",
    "\n",
    "Ok, we have checked our assumption and we can proceed with the t-test."
   ]
  },
  {
   "cell_type": "code",
   "execution_count": 11,
   "metadata": {},
   "outputs": [
    {
     "data": {
      "text/plain": [
       "Ttest_1sampResult(statistic=0.30457114391380524, pvalue=0.76331819904015463)"
      ]
     },
     "execution_count": 11,
     "metadata": {},
     "output_type": "execute_result"
    }
   ],
   "source": [
    "import scipy.stats as stats\n",
    "\n",
    "stats.ttest_1samp(a=sat_ds[\"GPA\"], popmean=3.0)\n"
   ]
  },
  {
   "cell_type": "markdown",
   "metadata": {},
   "source": [
    "The test result shows the test statistic \"t\" is equal to 0.304 which tells us how much the sample mean deviates from the null hypothesis.</br>\n",
    "\n",
    "The associated p-value = 0.763 and p>α. Therefore, we do not reject the null-hypothesis and we can say, that the mean of the sample is not significanly different from 3.0. "
   ]
  },
  {
   "cell_type": "markdown",
   "metadata": {},
   "source": [
    "<h3>Exercise</h3>\n",
    "\n",
    "Suppose we are interested in determining whether the average mpg (miles per gallon) of our cars sample is 20.<br/> \n",
    "For this exercise use the \"auto-mpg.cvs\" file and the \"mpg\" variable.\n",
    "\n",
    "<h4>In this case what are the hypothesis?</h4>\n",
    "Write the hypothesis down.\n",
    "\n",
    "Use a significance level of 0.05\n",
    "\n",
    "α = 0.05\n",
    "\n",
    "<h4>Write the python program that test for this hypothesis. What is the result? Are you accepting or rejecting the hypothesis?</h4>"
   ]
  },
  {
   "cell_type": "markdown",
   "metadata": {},
   "source": [
    "<h3>Two-Sample T-Test</h3>\n",
    "In this case we want to test whether the means of two indipendent data samples are significantly different.</br>\n",
    "\n",
    "For example, lets consider the car dataset and let's study whether or not the mileage is different from the two population of 4 and 6 cilinder cars.</br>\n",
    "\n",
    "In this case the hypothesis are:</br>\n",
    "\n",
    "H<sub>0</sub>: μ<sub>cyl=4</sub>= μ<sub>cyl=6</sub></br>\n",
    "\n",
    "H<sub>a</sub>: μ<sub>cyl=4</sub>≠ μ<sub>cyl=6</sub></br>\n",
    "\n",
    "Also in this case we use the traditional α = 0.05\n",
    "\n",
    "<u><b>In this test, we have an extra assumption: the two populations must have identical variances by default. If the two population have significant different variance, then we would use the Welch's t-test that does not assume equal population variance.</b></u>"
   ]
  },
  {
   "cell_type": "code",
   "execution_count": 19,
   "metadata": {},
   "outputs": [
    {
     "name": "stdout",
     "output_type": "stream",
     "text": [
      "min:  9.0\n",
      "Max:  46.6\n",
      "Range:  37.6\n"
     ]
    },
    {
     "data": {
      "text/plain": [
       "<matplotlib.axes._subplots.AxesSubplot at 0x3a8c872e10>"
      ]
     },
     "execution_count": 19,
     "metadata": {},
     "output_type": "execute_result"
    },
    {
     "data": {
      "image/png": "[encoded data removed]",
      "text/plain": [
       "<matplotlib.figure.Figure at 0x3a8d897c18>"
      ]
     },
     "metadata": {},
     "output_type": "display_data"
    }
   ],
   "source": [
    "#Reading the mpg dataset\n",
    "car_filename = \"./data/auto-mpg.csv\"\n",
    "car_ds = pd.read_csv(car_filename, sep=',', decimal='.',header = 0)\n",
    "\n",
    "minimum = car_ds[\"mpg\"].min()\n",
    "maximum = car_ds[\"mpg\"].max()\n",
    "rangeMPG = maximum-minimum\n",
    "\n",
    "print (\"min: \", minimum)\n",
    "print (\"Max: \", maximum)\n",
    "print (\"Range: \",rangeMPG)\n",
    "car_ds.boxplot(column='mpg')"
   ]
  },
  {
   "cell_type": "code",
   "execution_count": 22,
   "metadata": {},
   "outputs": [
    {
     "data": {
      "image/png": "[encoded data removed]",
      "text/plain": [
       "<matplotlib.figure.Figure at 0x3a8c612518>"
      ]
     },
     "metadata": {},
     "output_type": "display_data"
    }
   ],
   "source": [
    "# The same boxplot using the seaborn library\n",
    "sns.set(style=\"ticks\")\n",
    "\n",
    "# Draw a nested boxplot to show mpg and cylinders. Note, there is no overlap between 4 & 6 cylinders\n",
    "sns.boxplot(x=\"cyl\", y=\"mpg\", data=car_ds, palette=\"PRGn\")\n",
    "sns.despine(offset=10, trim=True)"
   ]
  },
  {
   "cell_type": "markdown",
   "metadata": {},
   "source": [
    "<h4>Checking the gpa variable is continuous</h4>\n",
    "Yes, this variable is in a decimal format and can take values from 9 to 46.6 and the value of 46.6 might be an outlier which will be removed from further analysis as it is a single value higher from any other value in the dataset, independently from the number of cylinders.</br>\n",
    "\n",
    "We create a new dataset that contains all rows with the exception of mpg=46.6 and check the box plot again."
   ]
  },
  {
   "cell_type": "code",
   "execution_count": 25,
   "metadata": {},
   "outputs": [
    {
     "data": {
      "image/png": "[encoded data removed]",
      "text/plain": [
       "<matplotlib.figure.Figure at 0x3a8f4ec668>"
      ]
     },
     "metadata": {},
     "output_type": "display_data"
    }
   ],
   "source": [
    "car_clean = car_ds[car_ds.mpg != 46.6]\n",
    "\n",
    "# Draw boxplots to show miles date over cylinders. \n",
    "sns.boxplot(x=\"cyl\", y=\"mpg\", data=car_clean, palette=\"PRGn\")\n",
    "sns.despine(offset=10, trim=True)"
   ]
  },
  {
   "cell_type": "markdown",
   "metadata": {},
   "source": [
    "The boxplot looks good now.\n",
    "\n",
    "<h4>Checking the gpa variable is approximately normally distributed</h4>\n",
    "Again, a little bit skewed, but we could consider approximately normal.</br>\n",
    "\n",
    "We also assume the two populations have the same variance (How do you check for that?)"
   ]
  },
  {
   "cell_type": "code",
   "execution_count": 29,
   "metadata": {},
   "outputs": [
    {
     "data": {
      "image/png": "[encoded data removed]",
      "text/plain": [
       "<matplotlib.figure.Figure at 0x3a8c5282b0>"
      ]
     },
     "metadata": {},
     "output_type": "display_data"
    }
   ],
   "source": [
    "sns.set_style(style='white')\n",
    "sns.distplot(car_clean[\"mpg\"],bins=30)\n",
    "\n",
    "# Remove the top and right borders - Must come after the graph\n",
    "sns.despine()"
   ]
  },
  {
   "cell_type": "markdown",
   "metadata": {},
   "source": [
    "<h3>Executing the test</h3>\n",
    "Let's now execute the two sample t-test."
   ]
  },
  {
   "cell_type": "code",
   "execution_count": 42,
   "metadata": {},
   "outputs": [
    {
     "data": {
      "text/plain": [
       "19.973493975903615"
      ]
     },
     "execution_count": 42,
     "metadata": {},
     "output_type": "execute_result"
    }
   ],
   "source": [
    "ds_4cyl = car_ds[car_ds.cyl == 4]\n",
    "ds_6cyl = car_ds[car_ds.cyl == 6]"
   ]
  },
  {
   "cell_type": "code",
   "execution_count": 41,
   "metadata": {},
   "outputs": [
    {
     "data": {
      "text/html": [
       "<div>\n",
       "<style>\n",
       "    .dataframe thead tr:only-child th {\n",
       "        text-align: right;\n",
       "    }\n",
       "\n",
       "    .dataframe thead th {\n",
       "        text-align: left;\n",
       "    }\n",
       "\n",
       "    .dataframe tbody tr th {\n",
       "        vertical-align: top;\n",
       "    }\n",
       "</style>\n",
       "<table border=\"1\" class=\"dataframe\">\n",
       "  <thead>\n",
       "    <tr style=\"text-align: right;\">\n",
       "      <th></th>\n",
       "      <th>mpg</th>\n",
       "      <th>cyl</th>\n",
       "      <th>displ</th>\n",
       "      <th>hp</th>\n",
       "      <th>weight</th>\n",
       "      <th>accel</th>\n",
       "      <th>yr</th>\n",
       "      <th>origin</th>\n",
       "      <th>name</th>\n",
       "    </tr>\n",
       "  </thead>\n",
       "  <tbody>\n",
       "    <tr>\n",
       "      <th>14</th>\n",
       "      <td>24.0</td>\n",
       "      <td>4</td>\n",
       "      <td>113.0</td>\n",
       "      <td>95</td>\n",
       "      <td>2372</td>\n",
       "      <td>15.0</td>\n",
       "      <td>70</td>\n",
       "      <td>3</td>\n",
       "      <td>toyota corona mark ii</td>\n",
       "    </tr>\n",
       "    <tr>\n",
       "      <th>18</th>\n",
       "      <td>27.0</td>\n",
       "      <td>4</td>\n",
       "      <td>97.0</td>\n",
       "      <td>88</td>\n",
       "      <td>2130</td>\n",
       "      <td>14.5</td>\n",
       "      <td>70</td>\n",
       "      <td>3</td>\n",
       "      <td>datsun pl510</td>\n",
       "    </tr>\n",
       "    <tr>\n",
       "      <th>19</th>\n",
       "      <td>26.0</td>\n",
       "      <td>4</td>\n",
       "      <td>97.0</td>\n",
       "      <td>46</td>\n",
       "      <td>1835</td>\n",
       "      <td>20.5</td>\n",
       "      <td>70</td>\n",
       "      <td>2</td>\n",
       "      <td>volkswagen 1131 deluxe sedan</td>\n",
       "    </tr>\n",
       "    <tr>\n",
       "      <th>20</th>\n",
       "      <td>25.0</td>\n",
       "      <td>4</td>\n",
       "      <td>110.0</td>\n",
       "      <td>87</td>\n",
       "      <td>2672</td>\n",
       "      <td>17.5</td>\n",
       "      <td>70</td>\n",
       "      <td>2</td>\n",
       "      <td>peugeot 504</td>\n",
       "    </tr>\n",
       "    <tr>\n",
       "      <th>21</th>\n",
       "      <td>24.0</td>\n",
       "      <td>4</td>\n",
       "      <td>107.0</td>\n",
       "      <td>90</td>\n",
       "      <td>2430</td>\n",
       "      <td>14.5</td>\n",
       "      <td>70</td>\n",
       "      <td>2</td>\n",
       "      <td>audi 100 ls</td>\n",
       "    </tr>\n",
       "  </tbody>\n",
       "</table>\n",
       "</div>"
      ],
      "text/plain": [
       "     mpg  cyl  displ  hp  weight  accel  yr  origin  \\\n",
       "14  24.0    4  113.0  95    2372   15.0  70       3   \n",
       "18  27.0    4   97.0  88    2130   14.5  70       3   \n",
       "19  26.0    4   97.0  46    1835   20.5  70       2   \n",
       "20  25.0    4  110.0  87    2672   17.5  70       2   \n",
       "21  24.0    4  107.0  90    2430   14.5  70       2   \n",
       "\n",
       "                            name  \n",
       "14         toyota corona mark ii  \n",
       "18                  datsun pl510  \n",
       "19  volkswagen 1131 deluxe sedan  \n",
       "20                   peugeot 504  \n",
       "21                   audi 100 ls  "
      ]
     },
     "execution_count": 41,
     "metadata": {},
     "output_type": "execute_result"
    }
   ],
   "source": [
    "ds_4cyl.head(5)"
   ]
  },
  {
   "cell_type": "markdown",
   "metadata": {},
   "source": [
    "ds_6cyl.head(5)"
   ]
  },
  {
   "cell_type": "code",
   "execution_count": 43,
   "metadata": {},
   "outputs": [
    {
     "name": "stdout",
     "output_type": "stream",
     "text": [
      "4 Cyl (Mean): 29.283919597989957\n",
      "6 Cyl (Mean): 19.973493975903615\n"
     ]
    }
   ],
   "source": [
    "#Display the means\n",
    "cyl4_mean = ds_4cyl[\"mpg\"].mean()\n",
    "cyl6_mean = ds_6cyl[\"mpg\"].mean()\n",
    "\n",
    "print (\"4 Cyl (Mean):\", cyl4_mean)\n",
    "print (\"6 Cyl (Mean):\", cyl6_mean)"
   ]
  },
  {
   "cell_type": "code",
   "execution_count": 45,
   "metadata": {},
   "outputs": [
    {
     "data": {
      "text/plain": [
       "Ttest_indResult(statistic=13.704896898546142, pvalue=4.6176516348996581e-33)"
      ]
     },
     "execution_count": 45,
     "metadata": {},
     "output_type": "execute_result"
    }
   ],
   "source": [
    "stats.ttest_ind(ds_4cyl[\"mpg\"],ds_6cyl[\"mpg\"])"
   ]
  },
  {
   "cell_type": "markdown",
   "metadata": {},
   "source": [
    "Because the two variances are probably different, we should use the Welch's test"
   ]
  },
  {
   "cell_type": "code",
   "execution_count": 39,
   "metadata": {},
   "outputs": [
    {
     "data": {
      "text/plain": [
       "Ttest_indResult(statistic=16.009512599181818, pvalue=6.2448622576436035e-39)"
      ]
     },
     "execution_count": 39,
     "metadata": {},
     "output_type": "execute_result"
    }
   ],
   "source": [
    "stats.ttest_ind(ds_4cyl[\"mpg\"],ds_6cyl[\"mpg\"], equal_var=False)"
   ]
  },
  {
   "cell_type": "markdown",
   "metadata": {},
   "source": [
    "As we can see, the p-value is way smaller than 0.05 and consequently p<α we reject the null hypothesis and say: \"We have a statistically significant evidence to believe 4 cylinders cars have, on average, more mpg when compared to 6 cylindars."
   ]
  },
  {
   "cell_type": "code",
   "execution_count": null,
   "metadata": {
    "collapsed": true
   },
   "outputs": [],
   "source": []
  }
 ],
 "metadata": {
  "kernelspec": {
   "display_name": "Python 3 (ipykernel)",
   "language": "python",
   "name": "python3"
  },
  "language_info": {
   "codemirror_mode": {
    "name": "ipython",
    "version": 3
   },
   "file_extension": ".py",
   "mimetype": "text/x-python",
   "name": "python",
   "nbconvert_exporter": "python",
   "pygments_lexer": "ipython3",
   "version": "3.9.16"
  }
 },
 "nbformat": 4,
 "nbformat_minor": 2
}
